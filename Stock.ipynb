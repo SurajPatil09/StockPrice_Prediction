{
  "nbformat": 4,
  "nbformat_minor": 0,
  "metadata": {
    "colab": {
      "provenance": []
    },
    "kernelspec": {
      "name": "python3",
      "display_name": "Python 3"
    },
    "language_info": {
      "name": "python"
    }
  },
  "cells": [
    {
      "cell_type": "code",
      "execution_count": 1,
      "metadata": {
        "colab": {
          "base_uri": "https://localhost:8080/"
        },
        "id": "IeFjqLWd-VDj",
        "outputId": "b230bb4c-374d-494b-f0b9-03570e2dbc82"
      },
      "outputs": [
        {
          "output_type": "stream",
          "name": "stdout",
          "text": [
            "Drive already mounted at /content/drive; to attempt to forcibly remount, call drive.mount(\"/content/drive\", force_remount=True).\n"
          ]
        }
      ],
      "source": [
        "from google.colab import drive\n",
        "drive.mount('/content/drive')"
      ]
    },
    {
      "cell_type": "code",
      "source": [
        "path = \"/content/drive/MyDrive/datasets/Google_Stock_Price_Train.csv\""
      ],
      "metadata": {
        "id": "h6TM9ASW_hK_"
      },
      "execution_count": 2,
      "outputs": []
    },
    {
      "cell_type": "code",
      "source": [
        "import numpy as np\n",
        "import pandas as pd\n",
        "import matplotlib.pyplot as plt\n",
        "import keras\n",
        "import seaborn as sns\n",
        "from pandas.plotting import autocorrelation_plot\n",
        "%matplotlib inline"
      ],
      "metadata": {
        "id": "Q1OQwXvDADro"
      },
      "execution_count": 3,
      "outputs": []
    },
    {
      "cell_type": "code",
      "source": [
        "df_google = pd.read_csv(path)"
      ],
      "metadata": {
        "id": "_DAlB2a-Ahgl"
      },
      "execution_count": 4,
      "outputs": []
    },
    {
      "cell_type": "code",
      "source": [
        "df_google.head()"
      ],
      "metadata": {
        "colab": {
          "base_uri": "https://localhost:8080/",
          "height": 206
        },
        "id": "l17SEd_mAta0",
        "outputId": "44b8d713-523c-4fa2-8f2f-9abcd29b1e94"
      },
      "execution_count": 5,
      "outputs": [
        {
          "output_type": "execute_result",
          "data": {
            "text/plain": [
              "       Date    Open    High     Low   Close      Volume\n",
              "0  1/3/2012  325.25  332.83  324.97  663.59   7,380,500\n",
              "1  1/4/2012  331.27  333.87  329.08  666.45   5,749,400\n",
              "2  1/5/2012  329.83  330.75  326.89  657.21   6,590,300\n",
              "3  1/6/2012  328.34  328.77  323.68  648.24   5,405,900\n",
              "4  1/9/2012  322.04  322.29  309.46  620.76  11,688,800"
            ],
            "text/html": [
              "\n",
              "  <div id=\"df-7b7bb2db-fb27-4670-a263-2a5639a0e12f\">\n",
              "    <div class=\"colab-df-container\">\n",
              "      <div>\n",
              "<style scoped>\n",
              "    .dataframe tbody tr th:only-of-type {\n",
              "        vertical-align: middle;\n",
              "    }\n",
              "\n",
              "    .dataframe tbody tr th {\n",
              "        vertical-align: top;\n",
              "    }\n",
              "\n",
              "    .dataframe thead th {\n",
              "        text-align: right;\n",
              "    }\n",
              "</style>\n",
              "<table border=\"1\" class=\"dataframe\">\n",
              "  <thead>\n",
              "    <tr style=\"text-align: right;\">\n",
              "      <th></th>\n",
              "      <th>Date</th>\n",
              "      <th>Open</th>\n",
              "      <th>High</th>\n",
              "      <th>Low</th>\n",
              "      <th>Close</th>\n",
              "      <th>Volume</th>\n",
              "    </tr>\n",
              "  </thead>\n",
              "  <tbody>\n",
              "    <tr>\n",
              "      <th>0</th>\n",
              "      <td>1/3/2012</td>\n",
              "      <td>325.25</td>\n",
              "      <td>332.83</td>\n",
              "      <td>324.97</td>\n",
              "      <td>663.59</td>\n",
              "      <td>7,380,500</td>\n",
              "    </tr>\n",
              "    <tr>\n",
              "      <th>1</th>\n",
              "      <td>1/4/2012</td>\n",
              "      <td>331.27</td>\n",
              "      <td>333.87</td>\n",
              "      <td>329.08</td>\n",
              "      <td>666.45</td>\n",
              "      <td>5,749,400</td>\n",
              "    </tr>\n",
              "    <tr>\n",
              "      <th>2</th>\n",
              "      <td>1/5/2012</td>\n",
              "      <td>329.83</td>\n",
              "      <td>330.75</td>\n",
              "      <td>326.89</td>\n",
              "      <td>657.21</td>\n",
              "      <td>6,590,300</td>\n",
              "    </tr>\n",
              "    <tr>\n",
              "      <th>3</th>\n",
              "      <td>1/6/2012</td>\n",
              "      <td>328.34</td>\n",
              "      <td>328.77</td>\n",
              "      <td>323.68</td>\n",
              "      <td>648.24</td>\n",
              "      <td>5,405,900</td>\n",
              "    </tr>\n",
              "    <tr>\n",
              "      <th>4</th>\n",
              "      <td>1/9/2012</td>\n",
              "      <td>322.04</td>\n",
              "      <td>322.29</td>\n",
              "      <td>309.46</td>\n",
              "      <td>620.76</td>\n",
              "      <td>11,688,800</td>\n",
              "    </tr>\n",
              "  </tbody>\n",
              "</table>\n",
              "</div>\n",
              "      <button class=\"colab-df-convert\" onclick=\"convertToInteractive('df-7b7bb2db-fb27-4670-a263-2a5639a0e12f')\"\n",
              "              title=\"Convert this dataframe to an interactive table.\"\n",
              "              style=\"display:none;\">\n",
              "        \n",
              "  <svg xmlns=\"http://www.w3.org/2000/svg\" height=\"24px\"viewBox=\"0 0 24 24\"\n",
              "       width=\"24px\">\n",
              "    <path d=\"M0 0h24v24H0V0z\" fill=\"none\"/>\n",
              "    <path d=\"M18.56 5.44l.94 2.06.94-2.06 2.06-.94-2.06-.94-.94-2.06-.94 2.06-2.06.94zm-11 1L8.5 8.5l.94-2.06 2.06-.94-2.06-.94L8.5 2.5l-.94 2.06-2.06.94zm10 10l.94 2.06.94-2.06 2.06-.94-2.06-.94-.94-2.06-.94 2.06-2.06.94z\"/><path d=\"M17.41 7.96l-1.37-1.37c-.4-.4-.92-.59-1.43-.59-.52 0-1.04.2-1.43.59L10.3 9.45l-7.72 7.72c-.78.78-.78 2.05 0 2.83L4 21.41c.39.39.9.59 1.41.59.51 0 1.02-.2 1.41-.59l7.78-7.78 2.81-2.81c.8-.78.8-2.07 0-2.86zM5.41 20L4 18.59l7.72-7.72 1.47 1.35L5.41 20z\"/>\n",
              "  </svg>\n",
              "      </button>\n",
              "      \n",
              "  <style>\n",
              "    .colab-df-container {\n",
              "      display:flex;\n",
              "      flex-wrap:wrap;\n",
              "      gap: 12px;\n",
              "    }\n",
              "\n",
              "    .colab-df-convert {\n",
              "      background-color: #E8F0FE;\n",
              "      border: none;\n",
              "      border-radius: 50%;\n",
              "      cursor: pointer;\n",
              "      display: none;\n",
              "      fill: #1967D2;\n",
              "      height: 32px;\n",
              "      padding: 0 0 0 0;\n",
              "      width: 32px;\n",
              "    }\n",
              "\n",
              "    .colab-df-convert:hover {\n",
              "      background-color: #E2EBFA;\n",
              "      box-shadow: 0px 1px 2px rgba(60, 64, 67, 0.3), 0px 1px 3px 1px rgba(60, 64, 67, 0.15);\n",
              "      fill: #174EA6;\n",
              "    }\n",
              "\n",
              "    [theme=dark] .colab-df-convert {\n",
              "      background-color: #3B4455;\n",
              "      fill: #D2E3FC;\n",
              "    }\n",
              "\n",
              "    [theme=dark] .colab-df-convert:hover {\n",
              "      background-color: #434B5C;\n",
              "      box-shadow: 0px 1px 3px 1px rgba(0, 0, 0, 0.15);\n",
              "      filter: drop-shadow(0px 1px 2px rgba(0, 0, 0, 0.3));\n",
              "      fill: #FFFFFF;\n",
              "    }\n",
              "  </style>\n",
              "\n",
              "      <script>\n",
              "        const buttonEl =\n",
              "          document.querySelector('#df-7b7bb2db-fb27-4670-a263-2a5639a0e12f button.colab-df-convert');\n",
              "        buttonEl.style.display =\n",
              "          google.colab.kernel.accessAllowed ? 'block' : 'none';\n",
              "\n",
              "        async function convertToInteractive(key) {\n",
              "          const element = document.querySelector('#df-7b7bb2db-fb27-4670-a263-2a5639a0e12f');\n",
              "          const dataTable =\n",
              "            await google.colab.kernel.invokeFunction('convertToInteractive',\n",
              "                                                     [key], {});\n",
              "          if (!dataTable) return;\n",
              "\n",
              "          const docLinkHtml = 'Like what you see? Visit the ' +\n",
              "            '<a target=\"_blank\" href=https://colab.research.google.com/notebooks/data_table.ipynb>data table notebook</a>'\n",
              "            + ' to learn more about interactive tables.';\n",
              "          element.innerHTML = '';\n",
              "          dataTable['output_type'] = 'display_data';\n",
              "          await google.colab.output.renderOutput(dataTable, element);\n",
              "          const docLink = document.createElement('div');\n",
              "          docLink.innerHTML = docLinkHtml;\n",
              "          element.appendChild(docLink);\n",
              "        }\n",
              "      </script>\n",
              "    </div>\n",
              "  </div>\n",
              "  "
            ]
          },
          "metadata": {},
          "execution_count": 5
        }
      ]
    },
    {
      "cell_type": "code",
      "source": [
        "df_google.corr()"
      ],
      "metadata": {
        "colab": {
          "base_uri": "https://localhost:8080/",
          "height": 198
        },
        "id": "TZPs6IT0Jszn",
        "outputId": "95fd6df8-2480-478a-d66d-c81b9f535489"
      },
      "execution_count": 6,
      "outputs": [
        {
          "output_type": "stream",
          "name": "stderr",
          "text": [
            "<ipython-input-6-fd776cfeeb55>:1: FutureWarning: The default value of numeric_only in DataFrame.corr is deprecated. In a future version, it will default to False. Select only valid columns or specify the value of numeric_only to silence this warning.\n",
            "  df_google.corr()\n"
          ]
        },
        {
          "output_type": "execute_result",
          "data": {
            "text/plain": [
              "          Open      High       Low\n",
              "Open  1.000000  0.999692  0.999498\n",
              "High  0.999692  1.000000  0.999480\n",
              "Low   0.999498  0.999480  1.000000"
            ],
            "text/html": [
              "\n",
              "  <div id=\"df-8ec6dd5c-bf05-4144-82d1-6a52e6327685\">\n",
              "    <div class=\"colab-df-container\">\n",
              "      <div>\n",
              "<style scoped>\n",
              "    .dataframe tbody tr th:only-of-type {\n",
              "        vertical-align: middle;\n",
              "    }\n",
              "\n",
              "    .dataframe tbody tr th {\n",
              "        vertical-align: top;\n",
              "    }\n",
              "\n",
              "    .dataframe thead th {\n",
              "        text-align: right;\n",
              "    }\n",
              "</style>\n",
              "<table border=\"1\" class=\"dataframe\">\n",
              "  <thead>\n",
              "    <tr style=\"text-align: right;\">\n",
              "      <th></th>\n",
              "      <th>Open</th>\n",
              "      <th>High</th>\n",
              "      <th>Low</th>\n",
              "    </tr>\n",
              "  </thead>\n",
              "  <tbody>\n",
              "    <tr>\n",
              "      <th>Open</th>\n",
              "      <td>1.000000</td>\n",
              "      <td>0.999692</td>\n",
              "      <td>0.999498</td>\n",
              "    </tr>\n",
              "    <tr>\n",
              "      <th>High</th>\n",
              "      <td>0.999692</td>\n",
              "      <td>1.000000</td>\n",
              "      <td>0.999480</td>\n",
              "    </tr>\n",
              "    <tr>\n",
              "      <th>Low</th>\n",
              "      <td>0.999498</td>\n",
              "      <td>0.999480</td>\n",
              "      <td>1.000000</td>\n",
              "    </tr>\n",
              "  </tbody>\n",
              "</table>\n",
              "</div>\n",
              "      <button class=\"colab-df-convert\" onclick=\"convertToInteractive('df-8ec6dd5c-bf05-4144-82d1-6a52e6327685')\"\n",
              "              title=\"Convert this dataframe to an interactive table.\"\n",
              "              style=\"display:none;\">\n",
              "        \n",
              "  <svg xmlns=\"http://www.w3.org/2000/svg\" height=\"24px\"viewBox=\"0 0 24 24\"\n",
              "       width=\"24px\">\n",
              "    <path d=\"M0 0h24v24H0V0z\" fill=\"none\"/>\n",
              "    <path d=\"M18.56 5.44l.94 2.06.94-2.06 2.06-.94-2.06-.94-.94-2.06-.94 2.06-2.06.94zm-11 1L8.5 8.5l.94-2.06 2.06-.94-2.06-.94L8.5 2.5l-.94 2.06-2.06.94zm10 10l.94 2.06.94-2.06 2.06-.94-2.06-.94-.94-2.06-.94 2.06-2.06.94z\"/><path d=\"M17.41 7.96l-1.37-1.37c-.4-.4-.92-.59-1.43-.59-.52 0-1.04.2-1.43.59L10.3 9.45l-7.72 7.72c-.78.78-.78 2.05 0 2.83L4 21.41c.39.39.9.59 1.41.59.51 0 1.02-.2 1.41-.59l7.78-7.78 2.81-2.81c.8-.78.8-2.07 0-2.86zM5.41 20L4 18.59l7.72-7.72 1.47 1.35L5.41 20z\"/>\n",
              "  </svg>\n",
              "      </button>\n",
              "      \n",
              "  <style>\n",
              "    .colab-df-container {\n",
              "      display:flex;\n",
              "      flex-wrap:wrap;\n",
              "      gap: 12px;\n",
              "    }\n",
              "\n",
              "    .colab-df-convert {\n",
              "      background-color: #E8F0FE;\n",
              "      border: none;\n",
              "      border-radius: 50%;\n",
              "      cursor: pointer;\n",
              "      display: none;\n",
              "      fill: #1967D2;\n",
              "      height: 32px;\n",
              "      padding: 0 0 0 0;\n",
              "      width: 32px;\n",
              "    }\n",
              "\n",
              "    .colab-df-convert:hover {\n",
              "      background-color: #E2EBFA;\n",
              "      box-shadow: 0px 1px 2px rgba(60, 64, 67, 0.3), 0px 1px 3px 1px rgba(60, 64, 67, 0.15);\n",
              "      fill: #174EA6;\n",
              "    }\n",
              "\n",
              "    [theme=dark] .colab-df-convert {\n",
              "      background-color: #3B4455;\n",
              "      fill: #D2E3FC;\n",
              "    }\n",
              "\n",
              "    [theme=dark] .colab-df-convert:hover {\n",
              "      background-color: #434B5C;\n",
              "      box-shadow: 0px 1px 3px 1px rgba(0, 0, 0, 0.15);\n",
              "      filter: drop-shadow(0px 1px 2px rgba(0, 0, 0, 0.3));\n",
              "      fill: #FFFFFF;\n",
              "    }\n",
              "  </style>\n",
              "\n",
              "      <script>\n",
              "        const buttonEl =\n",
              "          document.querySelector('#df-8ec6dd5c-bf05-4144-82d1-6a52e6327685 button.colab-df-convert');\n",
              "        buttonEl.style.display =\n",
              "          google.colab.kernel.accessAllowed ? 'block' : 'none';\n",
              "\n",
              "        async function convertToInteractive(key) {\n",
              "          const element = document.querySelector('#df-8ec6dd5c-bf05-4144-82d1-6a52e6327685');\n",
              "          const dataTable =\n",
              "            await google.colab.kernel.invokeFunction('convertToInteractive',\n",
              "                                                     [key], {});\n",
              "          if (!dataTable) return;\n",
              "\n",
              "          const docLinkHtml = 'Like what you see? Visit the ' +\n",
              "            '<a target=\"_blank\" href=https://colab.research.google.com/notebooks/data_table.ipynb>data table notebook</a>'\n",
              "            + ' to learn more about interactive tables.';\n",
              "          element.innerHTML = '';\n",
              "          dataTable['output_type'] = 'display_data';\n",
              "          await google.colab.output.renderOutput(dataTable, element);\n",
              "          const docLink = document.createElement('div');\n",
              "          docLink.innerHTML = docLinkHtml;\n",
              "          element.appendChild(docLink);\n",
              "        }\n",
              "      </script>\n",
              "    </div>\n",
              "  </div>\n",
              "  "
            ]
          },
          "metadata": {},
          "execution_count": 6
        }
      ]
    },
    {
      "cell_type": "code",
      "source": [
        "# Visualization of correlation result with seaborn library\n",
        "f, ax = plt.subplots(figsize = (5,5))\n",
        "sns.heatmap(df_google.corr(), annot=True,linecolor='Green', fmt=\"0.4f\",ax=ax)\n",
        "plt.show()"
      ],
      "metadata": {
        "colab": {
          "base_uri": "https://localhost:8080/",
          "height": 506
        },
        "id": "6FNBOGXOKgcz",
        "outputId": "b3cf2474-7fe5-46fd-933d-9a4d36b46b6a"
      },
      "execution_count": 7,
      "outputs": [
        {
          "output_type": "stream",
          "name": "stderr",
          "text": [
            "<ipython-input-7-8f0815cca65f>:3: FutureWarning: The default value of numeric_only in DataFrame.corr is deprecated. In a future version, it will default to False. Select only valid columns or specify the value of numeric_only to silence this warning.\n",
            "  sns.heatmap(df_google.corr(), annot=True,linecolor='Green', fmt=\"0.4f\",ax=ax)\n"
          ]
        },
        {
          "output_type": "display_data",
          "data": {
            "text/plain": [
              "<Figure size 500x500 with 2 Axes>"
            ],
            "image/png": "[encoded data removed]"
          },
          "metadata": {}
        }
      ]
    },
    {
      "cell_type": "code",
      "source": [
        "# Remove commas from the columns that contain string values\n",
        "df_google['Close'] = df_google['Close'].str.replace(',', '')"
      ],
      "metadata": {
        "id": "jRzJladJAatM"
      },
      "execution_count": 8,
      "outputs": []
    },
    {
      "cell_type": "code",
      "source": [
        "# Convert the column to numeric\n",
        "df_google['Close'] = pd.to_numeric(df_google['Close'])"
      ],
      "metadata": {
        "id": "2p-E12s-Au-A"
      },
      "execution_count": 9,
      "outputs": []
    },
    {
      "cell_type": "code",
      "source": [
        "df_google.tail()"
      ],
      "metadata": {
        "colab": {
          "base_uri": "https://localhost:8080/",
          "height": 206
        },
        "id": "9KLix-65FUSD",
        "outputId": "373da8f8-c004-482b-d21a-b20d4a9d81ca"
      },
      "execution_count": 10,
      "outputs": [
        {
          "output_type": "execute_result",
          "data": {
            "text/plain": [
              "            Date    Open    High     Low   Close     Volume\n",
              "1253  12/23/2016  790.90  792.74  787.28  789.91    623,400\n",
              "1254  12/27/2016  790.68  797.86  787.66  791.55    789,100\n",
              "1255  12/28/2016  793.70  794.23  783.20  785.05  1,153,800\n",
              "1256  12/29/2016  783.33  785.93  778.92  782.79    744,300\n",
              "1257  12/30/2016  782.75  782.78  770.41  771.82  1,770,000"
            ],
            "text/html": [
              "\n",
              "  <div id=\"df-b281ae74-7078-4653-8ed1-b48520435223\">\n",
              "    <div class=\"colab-df-container\">\n",
              "      <div>\n",
              "<style scoped>\n",
              "    .dataframe tbody tr th:only-of-type {\n",
              "        vertical-align: middle;\n",
              "    }\n",
              "\n",
              "    .dataframe tbody tr th {\n",
              "        vertical-align: top;\n",
              "    }\n",
              "\n",
              "    .dataframe thead th {\n",
              "        text-align: right;\n",
              "    }\n",
              "</style>\n",
              "<table border=\"1\" class=\"dataframe\">\n",
              "  <thead>\n",
              "    <tr style=\"text-align: right;\">\n",
              "      <th></th>\n",
              "      <th>Date</th>\n",
              "      <th>Open</th>\n",
              "      <th>High</th>\n",
              "      <th>Low</th>\n",
              "      <th>Close</th>\n",
              "      <th>Volume</th>\n",
              "    </tr>\n",
              "  </thead>\n",
              "  <tbody>\n",
              "    <tr>\n",
              "      <th>1253</th>\n",
              "      <td>12/23/2016</td>\n",
              "      <td>790.90</td>\n",
              "      <td>792.74</td>\n",
              "      <td>787.28</td>\n",
              "      <td>789.91</td>\n",
              "      <td>623,400</td>\n",
              "    </tr>\n",
              "    <tr>\n",
              "      <th>1254</th>\n",
              "      <td>12/27/2016</td>\n",
              "      <td>790.68</td>\n",
              "      <td>797.86</td>\n",
              "      <td>787.66</td>\n",
              "      <td>791.55</td>\n",
              "      <td>789,100</td>\n",
              "    </tr>\n",
              "    <tr>\n",
              "      <th>1255</th>\n",
              "      <td>12/28/2016</td>\n",
              "      <td>793.70</td>\n",
              "      <td>794.23</td>\n",
              "      <td>783.20</td>\n",
              "      <td>785.05</td>\n",
              "      <td>1,153,800</td>\n",
              "    </tr>\n",
              "    <tr>\n",
              "      <th>1256</th>\n",
              "      <td>12/29/2016</td>\n",
              "      <td>783.33</td>\n",
              "      <td>785.93</td>\n",
              "      <td>778.92</td>\n",
              "      <td>782.79</td>\n",
              "      <td>744,300</td>\n",
              "    </tr>\n",
              "    <tr>\n",
              "      <th>1257</th>\n",
              "      <td>12/30/2016</td>\n",
              "      <td>782.75</td>\n",
              "      <td>782.78</td>\n",
              "      <td>770.41</td>\n",
              "      <td>771.82</td>\n",
              "      <td>1,770,000</td>\n",
              "    </tr>\n",
              "  </tbody>\n",
              "</table>\n",
              "</div>\n",
              "      <button class=\"colab-df-convert\" onclick=\"convertToInteractive('df-b281ae74-7078-4653-8ed1-b48520435223')\"\n",
              "              title=\"Convert this dataframe to an interactive table.\"\n",
              "              style=\"display:none;\">\n",
              "        \n",
              "  <svg xmlns=\"http://www.w3.org/2000/svg\" height=\"24px\"viewBox=\"0 0 24 24\"\n",
              "       width=\"24px\">\n",
              "    <path d=\"M0 0h24v24H0V0z\" fill=\"none\"/>\n",
              "    <path d=\"M18.56 5.44l.94 2.06.94-2.06 2.06-.94-2.06-.94-.94-2.06-.94 2.06-2.06.94zm-11 1L8.5 8.5l.94-2.06 2.06-.94-2.06-.94L8.5 2.5l-.94 2.06-2.06.94zm10 10l.94 2.06.94-2.06 2.06-.94-2.06-.94-.94-2.06-.94 2.06-2.06.94z\"/><path d=\"M17.41 7.96l-1.37-1.37c-.4-.4-.92-.59-1.43-.59-.52 0-1.04.2-1.43.59L10.3 9.45l-7.72 7.72c-.78.78-.78 2.05 0 2.83L4 21.41c.39.39.9.59 1.41.59.51 0 1.02-.2 1.41-.59l7.78-7.78 2.81-2.81c.8-.78.8-2.07 0-2.86zM5.41 20L4 18.59l7.72-7.72 1.47 1.35L5.41 20z\"/>\n",
              "  </svg>\n",
              "      </button>\n",
              "      \n",
              "  <style>\n",
              "    .colab-df-container {\n",
              "      display:flex;\n",
              "      flex-wrap:wrap;\n",
              "      gap: 12px;\n",
              "    }\n",
              "\n",
              "    .colab-df-convert {\n",
              "      background-color: #E8F0FE;\n",
              "      border: none;\n",
              "      border-radius: 50%;\n",
              "      cursor: pointer;\n",
              "      display: none;\n",
              "      fill: #1967D2;\n",
              "      height: 32px;\n",
              "      padding: 0 0 0 0;\n",
              "      width: 32px;\n",
              "    }\n",
              "\n",
              "    .colab-df-convert:hover {\n",
              "      background-color: #E2EBFA;\n",
              "      box-shadow: 0px 1px 2px rgba(60, 64, 67, 0.3), 0px 1px 3px 1px rgba(60, 64, 67, 0.15);\n",
              "      fill: #174EA6;\n",
              "    }\n",
              "\n",
              "    [theme=dark] .colab-df-convert {\n",
              "      background-color: #3B4455;\n",
              "      fill: #D2E3FC;\n",
              "    }\n",
              "\n",
              "    [theme=dark] .colab-df-convert:hover {\n",
              "      background-color: #434B5C;\n",
              "      box-shadow: 0px 1px 3px 1px rgba(0, 0, 0, 0.15);\n",
              "      filter: drop-shadow(0px 1px 2px rgba(0, 0, 0, 0.3));\n",
              "      fill: #FFFFFF;\n",
              "    }\n",
              "  </style>\n",
              "\n",
              "      <script>\n",
              "        const buttonEl =\n",
              "          document.querySelector('#df-b281ae74-7078-4653-8ed1-b48520435223 button.colab-df-convert');\n",
              "        buttonEl.style.display =\n",
              "          google.colab.kernel.accessAllowed ? 'block' : 'none';\n",
              "\n",
              "        async function convertToInteractive(key) {\n",
              "          const element = document.querySelector('#df-b281ae74-7078-4653-8ed1-b48520435223');\n",
              "          const dataTable =\n",
              "            await google.colab.kernel.invokeFunction('convertToInteractive',\n",
              "                                                     [key], {});\n",
              "          if (!dataTable) return;\n",
              "\n",
              "          const docLinkHtml = 'Like what you see? Visit the ' +\n",
              "            '<a target=\"_blank\" href=https://colab.research.google.com/notebooks/data_table.ipynb>data table notebook</a>'\n",
              "            + ' to learn more about interactive tables.';\n",
              "          element.innerHTML = '';\n",
              "          dataTable['output_type'] = 'display_data';\n",
              "          await google.colab.output.renderOutput(dataTable, element);\n",
              "          const docLink = document.createElement('div');\n",
              "          docLink.innerHTML = docLinkHtml;\n",
              "          element.appendChild(docLink);\n",
              "        }\n",
              "      </script>\n",
              "    </div>\n",
              "  </div>\n",
              "  "
            ]
          },
          "metadata": {},
          "execution_count": 10
        }
      ]
    },
    {
      "cell_type": "code",
      "source": [
        "# seprate the open price data from the data frame df_google_tr\n",
        "data_set = df_google.loc[:,[\"Close\"]]\n",
        "data_set"
      ],
      "metadata": {
        "colab": {
          "base_uri": "https://localhost:8080/",
          "height": 424
        },
        "id": "7BmiwyYHE6yj",
        "outputId": "72bfc209-b9fb-4587-c919-d754059873ca"
      },
      "execution_count": 11,
      "outputs": [
        {
          "output_type": "execute_result",
          "data": {
            "text/plain": [
              "       Close\n",
              "0     663.59\n",
              "1     666.45\n",
              "2     657.21\n",
              "3     648.24\n",
              "4     620.76\n",
              "...      ...\n",
              "1253  789.91\n",
              "1254  791.55\n",
              "1255  785.05\n",
              "1256  782.79\n",
              "1257  771.82\n",
              "\n",
              "[1258 rows x 1 columns]"
            ],
            "text/html": [
              "\n",
              "  <div id=\"df-d0b0286e-e237-4682-be66-e87bacd60be0\">\n",
              "    <div class=\"colab-df-container\">\n",
              "      <div>\n",
              "<style scoped>\n",
              "    .dataframe tbody tr th:only-of-type {\n",
              "        vertical-align: middle;\n",
              "    }\n",
              "\n",
              "    .dataframe tbody tr th {\n",
              "        vertical-align: top;\n",
              "    }\n",
              "\n",
              "    .dataframe thead th {\n",
              "        text-align: right;\n",
              "    }\n",
              "</style>\n",
              "<table border=\"1\" class=\"dataframe\">\n",
              "  <thead>\n",
              "    <tr style=\"text-align: right;\">\n",
              "      <th></th>\n",
              "      <th>Close</th>\n",
              "    </tr>\n",
              "  </thead>\n",
              "  <tbody>\n",
              "    <tr>\n",
              "      <th>0</th>\n",
              "      <td>663.59</td>\n",
              "    </tr>\n",
              "    <tr>\n",
              "      <th>1</th>\n",
              "      <td>666.45</td>\n",
              "    </tr>\n",
              "    <tr>\n",
              "      <th>2</th>\n",
              "      <td>657.21</td>\n",
              "    </tr>\n",
              "    <tr>\n",
              "      <th>3</th>\n",
              "      <td>648.24</td>\n",
              "    </tr>\n",
              "    <tr>\n",
              "      <th>4</th>\n",
              "      <td>620.76</td>\n",
              "    </tr>\n",
              "    <tr>\n",
              "      <th>...</th>\n",
              "      <td>...</td>\n",
              "    </tr>\n",
              "    <tr>\n",
              "      <th>1253</th>\n",
              "      <td>789.91</td>\n",
              "    </tr>\n",
              "    <tr>\n",
              "      <th>1254</th>\n",
              "      <td>791.55</td>\n",
              "    </tr>\n",
              "    <tr>\n",
              "      <th>1255</th>\n",
              "      <td>785.05</td>\n",
              "    </tr>\n",
              "    <tr>\n",
              "      <th>1256</th>\n",
              "      <td>782.79</td>\n",
              "    </tr>\n",
              "    <tr>\n",
              "      <th>1257</th>\n",
              "      <td>771.82</td>\n",
              "    </tr>\n",
              "  </tbody>\n",
              "</table>\n",
              "<p>1258 rows × 1 columns</p>\n",
              "</div>\n",
              "      <button class=\"colab-df-convert\" onclick=\"convertToInteractive('df-d0b0286e-e237-4682-be66-e87bacd60be0')\"\n",
              "              title=\"Convert this dataframe to an interactive table.\"\n",
              "              style=\"display:none;\">\n",
              "        \n",
              "  <svg xmlns=\"http://www.w3.org/2000/svg\" height=\"24px\"viewBox=\"0 0 24 24\"\n",
              "       width=\"24px\">\n",
              "    <path d=\"M0 0h24v24H0V0z\" fill=\"none\"/>\n",
              "    <path d=\"M18.56 5.44l.94 2.06.94-2.06 2.06-.94-2.06-.94-.94-2.06-.94 2.06-2.06.94zm-11 1L8.5 8.5l.94-2.06 2.06-.94-2.06-.94L8.5 2.5l-.94 2.06-2.06.94zm10 10l.94 2.06.94-2.06 2.06-.94-2.06-.94-.94-2.06-.94 2.06-2.06.94z\"/><path d=\"M17.41 7.96l-1.37-1.37c-.4-.4-.92-.59-1.43-.59-.52 0-1.04.2-1.43.59L10.3 9.45l-7.72 7.72c-.78.78-.78 2.05 0 2.83L4 21.41c.39.39.9.59 1.41.59.51 0 1.02-.2 1.41-.59l7.78-7.78 2.81-2.81c.8-.78.8-2.07 0-2.86zM5.41 20L4 18.59l7.72-7.72 1.47 1.35L5.41 20z\"/>\n",
              "  </svg>\n",
              "      </button>\n",
              "      \n",
              "  <style>\n",
              "    .colab-df-container {\n",
              "      display:flex;\n",
              "      flex-wrap:wrap;\n",
              "      gap: 12px;\n",
              "    }\n",
              "\n",
              "    .colab-df-convert {\n",
              "      background-color: #E8F0FE;\n",
              "      border: none;\n",
              "      border-radius: 50%;\n",
              "      cursor: pointer;\n",
              "      display: none;\n",
              "      fill: #1967D2;\n",
              "      height: 32px;\n",
              "      padding: 0 0 0 0;\n",
              "      width: 32px;\n",
              "    }\n",
              "\n",
              "    .colab-df-convert:hover {\n",
              "      background-color: #E2EBFA;\n",
              "      box-shadow: 0px 1px 2px rgba(60, 64, 67, 0.3), 0px 1px 3px 1px rgba(60, 64, 67, 0.15);\n",
              "      fill: #174EA6;\n",
              "    }\n",
              "\n",
              "    [theme=dark] .colab-df-convert {\n",
              "      background-color: #3B4455;\n",
              "      fill: #D2E3FC;\n",
              "    }\n",
              "\n",
              "    [theme=dark] .colab-df-convert:hover {\n",
              "      background-color: #434B5C;\n",
              "      box-shadow: 0px 1px 3px 1px rgba(0, 0, 0, 0.15);\n",
              "      filter: drop-shadow(0px 1px 2px rgba(0, 0, 0, 0.3));\n",
              "      fill: #FFFFFF;\n",
              "    }\n",
              "  </style>\n",
              "\n",
              "      <script>\n",
              "        const buttonEl =\n",
              "          document.querySelector('#df-d0b0286e-e237-4682-be66-e87bacd60be0 button.colab-df-convert');\n",
              "        buttonEl.style.display =\n",
              "          google.colab.kernel.accessAllowed ? 'block' : 'none';\n",
              "\n",
              "        async function convertToInteractive(key) {\n",
              "          const element = document.querySelector('#df-d0b0286e-e237-4682-be66-e87bacd60be0');\n",
              "          const dataTable =\n",
              "            await google.colab.kernel.invokeFunction('convertToInteractive',\n",
              "                                                     [key], {});\n",
              "          if (!dataTable) return;\n",
              "\n",
              "          const docLinkHtml = 'Like what you see? Visit the ' +\n",
              "            '<a target=\"_blank\" href=https://colab.research.google.com/notebooks/data_table.ipynb>data table notebook</a>'\n",
              "            + ' to learn more about interactive tables.';\n",
              "          element.innerHTML = '';\n",
              "          dataTable['output_type'] = 'display_data';\n",
              "          await google.colab.output.renderOutput(dataTable, element);\n",
              "          const docLink = document.createElement('div');\n",
              "          docLink.innerHTML = docLinkHtml;\n",
              "          element.appendChild(docLink);\n",
              "        }\n",
              "      </script>\n",
              "    </div>\n",
              "  </div>\n",
              "  "
            ]
          },
          "metadata": {},
          "execution_count": 11
        }
      ]
    },
    {
      "cell_type": "code",
      "source": [
        "# Normalize the sales data\n",
        "from sklearn.preprocessing import MinMaxScaler\n",
        "scaler = MinMaxScaler(feature_range=(0, 1))\n",
        "scaled_data = scaler.fit_transform(data_set.values)"
      ],
      "metadata": {
        "id": "NFvR7L3RE-ZD"
      },
      "execution_count": 13,
      "outputs": []
    },
    {
      "cell_type": "code",
      "source": [
        "# Split the data into train and test sets\n",
        "train_size = int(len(scaled_data) * 0.8)\n",
        "train_data, test_data = scaled_data[:train_size], scaled_data[train_size:]"
      ],
      "metadata": {
        "id": "Vla0QU8RGOwA"
      },
      "execution_count": 14,
      "outputs": []
    },
    {
      "cell_type": "code",
      "source": [
        "# Create sequences of length 1 (univariate time series)\n",
        "def create_sequences(data, seq_length):\n",
        "    X, y = [], []\n",
        "    for i in range(len(data) - seq_length):\n",
        "        X.append(data[i:i + seq_length])\n",
        "        y.append(data[i + seq_length])\n",
        "    return np.array(X), np.array(y)"
      ],
      "metadata": {
        "id": "e9YDEWNuGSdY"
      },
      "execution_count": 15,
      "outputs": []
    },
    {
      "cell_type": "code",
      "source": [
        "# Define the sequence length\n",
        "sequence_length = 1"
      ],
      "metadata": {
        "id": "rzMKCCTFGWTt"
      },
      "execution_count": 16,
      "outputs": []
    },
    {
      "cell_type": "code",
      "source": [
        "# Create the training sequences\n",
        "X_train, y_train = create_sequences(train_data, sequence_length)"
      ],
      "metadata": {
        "id": "T3WQBbepGYoW"
      },
      "execution_count": 17,
      "outputs": []
    },
    {
      "cell_type": "code",
      "source": [
        "# Reshape the input sequences to fit the LSTM model\n",
        "X_train = np.reshape(X_train, (X_train.shape[0], X_train.shape[1], 1))"
      ],
      "metadata": {
        "id": "9ieYc5aaGaYX"
      },
      "execution_count": 18,
      "outputs": []
    },
    {
      "cell_type": "code",
      "source": [
        "from tensorflow.keras.models import Sequential\n",
        "from tensorflow.keras.layers import Dense, LSTM"
      ],
      "metadata": {
        "id": "SRICPGRuGdtE"
      },
      "execution_count": 19,
      "outputs": []
    },
    {
      "cell_type": "code",
      "source": [
        "# Define the RNN model\n",
        "model = Sequential()\n",
        "model.add(LSTM(128, activation='relu', input_shape=(X_train.shape[1], 1)))\n",
        "model.add(Dense(1))\n",
        "model.compile(optimizer='adam', loss='mean_squared_error')"
      ],
      "metadata": {
        "id": "p2VqgJ5wGki9"
      },
      "execution_count": 20,
      "outputs": []
    },
    {
      "cell_type": "code",
      "source": [
        "# Train the RNN model\n",
        "model.fit(X_train, y_train, epochs=100, batch_size=1)"
      ],
      "metadata": {
        "colab": {
          "base_uri": "https://localhost:8080/"
        },
        "id": "HbwXTc8NGrZ8",
        "outputId": "7c419a67-36c2-4d98-903f-30513d2d08c2"
      },
      "execution_count": 21,
      "outputs": [
        {
          "output_type": "stream",
          "name": "stdout",
          "text": [
            "Epoch 1/100\n",
            "1005/1005 [==============================] - 4s 3ms/step - loss: 0.0216\n",
            "Epoch 2/100\n",
            "1005/1005 [==============================] - 3s 3ms/step - loss: 0.0012\n",
            "Epoch 3/100\n",
            "1005/1005 [==============================] - 4s 4ms/step - loss: 0.0012\n",
            "Epoch 4/100\n",
            "1005/1005 [==============================] - 3s 3ms/step - loss: 0.0012\n",
            "Epoch 5/100\n",
            "1005/1005 [==============================] - 3s 3ms/step - loss: 0.0011\n",
            "Epoch 6/100\n",
            "1005/1005 [==============================] - 3s 3ms/step - loss: 0.0011\n",
            "Epoch 7/100\n",
            "1005/1005 [==============================] - 3s 3ms/step - loss: 0.0011\n",
            "Epoch 8/100\n",
            "1005/1005 [==============================] - 4s 4ms/step - loss: 0.0010\n",
            "Epoch 9/100\n",
            "1005/1005 [==============================] - 3s 3ms/step - loss: 0.0010\n",
            "Epoch 10/100\n",
            "1005/1005 [==============================] - 2s 2ms/step - loss: 9.6523e-04\n",
            "Epoch 11/100\n",
            "1005/1005 [==============================] - 3s 3ms/step - loss: 9.8760e-04\n",
            "Epoch 12/100\n",
            "1005/1005 [==============================] - 2s 2ms/step - loss: 9.6245e-04\n",
            "Epoch 13/100\n",
            "1005/1005 [==============================] - 3s 3ms/step - loss: 9.6999e-04\n",
            "Epoch 14/100\n",
            "1005/1005 [==============================] - 3s 3ms/step - loss: 9.8094e-04\n",
            "Epoch 15/100\n",
            "1005/1005 [==============================] - 2s 2ms/step - loss: 9.6741e-04\n",
            "Epoch 16/100\n",
            "1005/1005 [==============================] - 2s 2ms/step - loss: 9.5661e-04\n",
            "Epoch 17/100\n",
            "1005/1005 [==============================] - 3s 3ms/step - loss: 9.6366e-04\n",
            "Epoch 18/100\n",
            "1005/1005 [==============================] - 3s 3ms/step - loss: 9.5655e-04\n",
            "Epoch 19/100\n",
            "1005/1005 [==============================] - 4s 4ms/step - loss: 9.6593e-04\n",
            "Epoch 20/100\n",
            "1005/1005 [==============================] - 2s 2ms/step - loss: 9.6704e-04\n",
            "Epoch 21/100\n",
            "1005/1005 [==============================] - 2s 2ms/step - loss: 9.5529e-04\n",
            "Epoch 22/100\n",
            "1005/1005 [==============================] - 2s 2ms/step - loss: 9.3312e-04\n",
            "Epoch 23/100\n",
            "1005/1005 [==============================] - 3s 3ms/step - loss: 9.6364e-04\n",
            "Epoch 24/100\n",
            "1005/1005 [==============================] - 4s 4ms/step - loss: 9.4505e-04\n",
            "Epoch 25/100\n",
            "1005/1005 [==============================] - 3s 3ms/step - loss: 9.6048e-04\n",
            "Epoch 26/100\n",
            "1005/1005 [==============================] - 3s 3ms/step - loss: 9.5667e-04\n",
            "Epoch 27/100\n",
            "1005/1005 [==============================] - 4s 4ms/step - loss: 9.5672e-04\n",
            "Epoch 28/100\n",
            "1005/1005 [==============================] - 4s 4ms/step - loss: 9.6223e-04\n",
            "Epoch 29/100\n",
            "1005/1005 [==============================] - 3s 3ms/step - loss: 9.7023e-04\n",
            "Epoch 30/100\n",
            "1005/1005 [==============================] - 3s 3ms/step - loss: 9.6382e-04\n",
            "Epoch 31/100\n",
            "1005/1005 [==============================] - 2s 2ms/step - loss: 9.5488e-04\n",
            "Epoch 32/100\n",
            "1005/1005 [==============================] - 3s 3ms/step - loss: 9.6372e-04\n",
            "Epoch 33/100\n",
            "1005/1005 [==============================] - 4s 4ms/step - loss: 9.5268e-04\n",
            "Epoch 34/100\n",
            "1005/1005 [==============================] - 3s 3ms/step - loss: 9.5266e-04\n",
            "Epoch 35/100\n",
            "1005/1005 [==============================] - 3s 3ms/step - loss: 9.4048e-04\n",
            "Epoch 36/100\n",
            "1005/1005 [==============================] - 2s 2ms/step - loss: 9.6456e-04\n",
            "Epoch 37/100\n",
            "1005/1005 [==============================] - 3s 3ms/step - loss: 9.6872e-04\n",
            "Epoch 38/100\n",
            "1005/1005 [==============================] - 4s 4ms/step - loss: 9.2572e-04\n",
            "Epoch 39/100\n",
            "1005/1005 [==============================] - 3s 3ms/step - loss: 9.8579e-04\n",
            "Epoch 40/100\n",
            "1005/1005 [==============================] - 3s 3ms/step - loss: 9.4555e-04\n",
            "Epoch 41/100\n",
            "1005/1005 [==============================] - 3s 3ms/step - loss: 9.2435e-04\n",
            "Epoch 42/100\n",
            "1005/1005 [==============================] - 4s 4ms/step - loss: 9.4561e-04\n",
            "Epoch 43/100\n",
            "1005/1005 [==============================] - 4s 4ms/step - loss: 9.4370e-04\n",
            "Epoch 44/100\n",
            "1005/1005 [==============================] - 3s 3ms/step - loss: 9.5419e-04\n",
            "Epoch 45/100\n",
            "1005/1005 [==============================] - 3s 3ms/step - loss: 9.3867e-04\n",
            "Epoch 46/100\n",
            "1005/1005 [==============================] - 3s 3ms/step - loss: 9.8574e-04\n",
            "Epoch 47/100\n",
            "1005/1005 [==============================] - 4s 4ms/step - loss: 9.7399e-04\n",
            "Epoch 48/100\n",
            "1005/1005 [==============================] - 3s 3ms/step - loss: 9.6538e-04\n",
            "Epoch 49/100\n",
            "1005/1005 [==============================] - 3s 3ms/step - loss: 9.4463e-04\n",
            "Epoch 50/100\n",
            "1005/1005 [==============================] - 3s 3ms/step - loss: 9.5335e-04\n",
            "Epoch 51/100\n",
            "1005/1005 [==============================] - 4s 4ms/step - loss: 9.6504e-04\n",
            "Epoch 52/100\n",
            "1005/1005 [==============================] - 3s 3ms/step - loss: 9.7334e-04\n",
            "Epoch 53/100\n",
            "1005/1005 [==============================] - 3s 3ms/step - loss: 9.3335e-04\n",
            "Epoch 54/100\n",
            "1005/1005 [==============================] - 3s 3ms/step - loss: 9.7122e-04\n",
            "Epoch 55/100\n",
            "1005/1005 [==============================] - 3s 3ms/step - loss: 9.8441e-04\n",
            "Epoch 56/100\n",
            "1005/1005 [==============================] - 4s 4ms/step - loss: 9.5897e-04\n",
            "Epoch 57/100\n",
            "1005/1005 [==============================] - 3s 3ms/step - loss: 9.4833e-04\n",
            "Epoch 58/100\n",
            "1005/1005 [==============================] - 3s 3ms/step - loss: 9.4470e-04\n",
            "Epoch 59/100\n",
            "1005/1005 [==============================] - 3s 3ms/step - loss: 9.4235e-04\n",
            "Epoch 60/100\n",
            "1005/1005 [==============================] - 3s 3ms/step - loss: 9.6255e-04\n",
            "Epoch 61/100\n",
            "1005/1005 [==============================] - 4s 4ms/step - loss: 9.5354e-04\n",
            "Epoch 62/100\n",
            "1005/1005 [==============================] - 3s 3ms/step - loss: 9.7480e-04\n",
            "Epoch 63/100\n",
            "1005/1005 [==============================] - 3s 3ms/step - loss: 9.3138e-04\n",
            "Epoch 64/100\n",
            "1005/1005 [==============================] - 3s 3ms/step - loss: 9.5010e-04\n",
            "Epoch 65/100\n",
            "1005/1005 [==============================] - 3s 3ms/step - loss: 9.5568e-04\n",
            "Epoch 66/100\n",
            "1005/1005 [==============================] - 4s 4ms/step - loss: 9.5461e-04\n",
            "Epoch 67/100\n",
            "1005/1005 [==============================] - 3s 3ms/step - loss: 9.5934e-04\n",
            "Epoch 68/100\n",
            "1005/1005 [==============================] - 3s 3ms/step - loss: 9.3563e-04\n",
            "Epoch 69/100\n",
            "1005/1005 [==============================] - 3s 3ms/step - loss: 9.5290e-04\n",
            "Epoch 70/100\n",
            "1005/1005 [==============================] - 3s 3ms/step - loss: 9.7642e-04\n",
            "Epoch 71/100\n",
            "1005/1005 [==============================] - 4s 4ms/step - loss: 9.2204e-04\n",
            "Epoch 72/100\n",
            "1005/1005 [==============================] - 3s 3ms/step - loss: 9.4526e-04\n",
            "Epoch 73/100\n",
            "1005/1005 [==============================] - 3s 3ms/step - loss: 9.7197e-04\n",
            "Epoch 74/100\n",
            "1005/1005 [==============================] - 3s 3ms/step - loss: 9.1577e-04\n",
            "Epoch 75/100\n",
            "1005/1005 [==============================] - 4s 4ms/step - loss: 9.5117e-04\n",
            "Epoch 76/100\n",
            "1005/1005 [==============================] - 3s 3ms/step - loss: 9.5508e-04\n",
            "Epoch 77/100\n",
            "1005/1005 [==============================] - 3s 3ms/step - loss: 9.5819e-04\n",
            "Epoch 78/100\n",
            "1005/1005 [==============================] - 3s 3ms/step - loss: 9.4444e-04\n",
            "Epoch 79/100\n",
            "1005/1005 [==============================] - 3s 3ms/step - loss: 9.4628e-04\n",
            "Epoch 80/100\n",
            "1005/1005 [==============================] - 4s 4ms/step - loss: 9.6539e-04\n",
            "Epoch 81/100\n",
            "1005/1005 [==============================] - 3s 3ms/step - loss: 9.2938e-04\n",
            "Epoch 82/100\n",
            "1005/1005 [==============================] - 3s 3ms/step - loss: 9.2272e-04\n",
            "Epoch 83/100\n",
            "1005/1005 [==============================] - 3s 3ms/step - loss: 9.3165e-04\n",
            "Epoch 84/100\n",
            "1005/1005 [==============================] - 4s 4ms/step - loss: 9.6861e-04\n",
            "Epoch 85/100\n",
            "1005/1005 [==============================] - 3s 3ms/step - loss: 9.3830e-04\n",
            "Epoch 86/100\n",
            "1005/1005 [==============================] - 3s 3ms/step - loss: 9.7768e-04\n",
            "Epoch 87/100\n",
            "1005/1005 [==============================] - 3s 3ms/step - loss: 9.4441e-04\n",
            "Epoch 88/100\n",
            "1005/1005 [==============================] - 3s 3ms/step - loss: 9.5487e-04\n",
            "Epoch 89/100\n",
            "1005/1005 [==============================] - 4s 4ms/step - loss: 9.7119e-04\n",
            "Epoch 90/100\n",
            "1005/1005 [==============================] - 3s 3ms/step - loss: 9.4238e-04\n",
            "Epoch 91/100\n",
            "1005/1005 [==============================] - 3s 3ms/step - loss: 9.2470e-04\n",
            "Epoch 92/100\n",
            "1005/1005 [==============================] - 3s 3ms/step - loss: 9.4794e-04\n",
            "Epoch 93/100\n",
            "1005/1005 [==============================] - 3s 3ms/step - loss: 9.2331e-04\n",
            "Epoch 94/100\n",
            "1005/1005 [==============================] - 4s 4ms/step - loss: 8.4487e-04\n",
            "Epoch 95/100\n",
            "1005/1005 [==============================] - 3s 3ms/step - loss: 0.0011\n",
            "Epoch 96/100\n",
            "1005/1005 [==============================] - 3s 3ms/step - loss: 9.2167e-04\n",
            "Epoch 97/100\n",
            "1005/1005 [==============================] - 3s 3ms/step - loss: 9.2210e-04\n",
            "Epoch 98/100\n",
            "1005/1005 [==============================] - 4s 4ms/step - loss: 9.7465e-04\n",
            "Epoch 99/100\n",
            "1005/1005 [==============================] - 3s 3ms/step - loss: 9.5482e-04\n",
            "Epoch 100/100\n",
            "1005/1005 [==============================] - 3s 3ms/step - loss: 9.4830e-04\n"
          ]
        },
        {
          "output_type": "execute_result",
          "data": {
            "text/plain": [
              "<keras.callbacks.History at 0x7f3fe859d180>"
            ]
          },
          "metadata": {},
          "execution_count": 21
        }
      ]
    },
    {
      "cell_type": "code",
      "source": [
        "# Prepare the testing data\n",
        "inputs = data_set[len(data_set) - len(test_data) - sequence_length:].values\n",
        "inputs = scaler.transform(inputs)\n",
        "X_test, y_test = create_sequences(inputs, sequence_length)\n",
        "X_test = np.reshape(X_test, (X_test.shape[0], X_test.shape[1], 1))"
      ],
      "metadata": {
        "id": "gUt9JL0gGyxx"
      },
      "execution_count": 22,
      "outputs": []
    },
    {
      "cell_type": "code",
      "source": [
        "# Make predictions using the trained model\n",
        "predictions = model.predict(X_test)\n",
        "predictions = scaler.inverse_transform(predictions)"
      ],
      "metadata": {
        "colab": {
          "base_uri": "https://localhost:8080/"
        },
        "id": "VcsIfPiFIZ5Y",
        "outputId": "3a78f667-2dde-4666-94f8-986e5c981349"
      },
      "execution_count": 23,
      "outputs": [
        {
          "output_type": "stream",
          "name": "stdout",
          "text": [
            "8/8 [==============================] - 0s 3ms/step\n"
          ]
        }
      ]
    },
    {
      "cell_type": "code",
      "source": [
        "# Calculate the root mean squared error (RMSE) for predictions\n",
        "rmse = np.sqrt(np.mean((predictions - data_set[-len(predictions):].values) ** 2))\n",
        "print('Root Mean Squared Error (RMSE):', rmse)"
      ],
      "metadata": {
        "colab": {
          "base_uri": "https://localhost:8080/"
        },
        "id": "wJCRzTZTIkt7",
        "outputId": "4e9b1447-4490-4da9-ed75-92b56b1bdce5"
      },
      "execution_count": 24,
      "outputs": [
        {
          "output_type": "stream",
          "name": "stdout",
          "text": [
            "Root Mean Squared Error (RMSE): 9.312066025698455\n"
          ]
        }
      ]
    },
    {
      "cell_type": "code",
      "source": [
        "# Visualize the predicted sales\n",
        "plt.figure(figsize=(20, 8))\n",
        "plt.plot(df_google.index, df_google['Close'], marker='o', label='Actual')\n",
        "plt.plot(df_google.index[-len(predictions):], predictions, marker='s', label='Predicted')\n",
        "plt.xlabel('Time')\n",
        "plt.ylabel('google stock prices')\n",
        "plt.title('google stock prices - Actual vs Predicted')\n",
        "plt.legend()\n",
        "plt.show()"
      ],
      "metadata": {
        "colab": {
          "base_uri": "https://localhost:8080/",
          "height": 551
        },
        "id": "DvxjSI-ZJTT9",
        "outputId": "e888ab77-48d2-4752-f624-017a7a89bd3c"
      },
      "execution_count": 25,
      "outputs": [
        {
          "output_type": "display_data",
          "data": {
            "text/plain": [
              "<Figure size 2000x800 with 1 Axes>"
            ],
            "image/png": "[encoded data removed]"
          },
          "metadata": {}
        }
      ]
    }
  ]
}